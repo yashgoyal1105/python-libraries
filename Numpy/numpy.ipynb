{
 "cells": [
  {
   "cell_type": "code",
   "execution_count": 11,
   "metadata": {},
   "outputs": [
    {
     "name": "stdout",
     "output_type": "stream",
     "text": [
      "[ 12.23  13.32 100.    36.32]\n"
     ]
    }
   ],
   "source": [
    "#Q1: Write a Python program to convert a list of numeric value into a one-dimensional NumPy array.\n",
    "import numpy as np\n",
    "og_list = [12.23, 13.32, 100, 36.32]\n",
    "arr_1D = np.array(og_list)\n",
    "print(arr_1D)"
   ]
  },
  {
   "cell_type": "code",
   "execution_count": 13,
   "metadata": {},
   "outputs": [
    {
     "name": "stdout",
     "output_type": "stream",
     "text": [
      "[[ 2  3  4]\n",
      " [ 5  6  7]\n",
      " [ 8  9 10]]\n"
     ]
    }
   ],
   "source": [
    "#Q2: Create a 3x3 matrix with values ranging from 2 to 10.\n",
    "mat = np.arange(2,11).reshape(3,3)\n",
    "print(mat)"
   ]
  },
  {
   "cell_type": "code",
   "execution_count": 15,
   "metadata": {},
   "outputs": [
    {
     "name": "stdout",
     "output_type": "stream",
     "text": [
      "[0. 0. 0. 0. 0. 0. 0. 0. 0. 0.]\n",
      "[ 0.  0.  0.  0.  0. 11.  0.  0.  0.  0.]\n"
     ]
    }
   ],
   "source": [
    "#Q3: Write a Python program to create a null vector of size 10 and update sixth value to 11.\n",
    "null_vector = np.zeros(10)\n",
    "print(null_vector)\n",
    "null_vector[5] = 11\n",
    "print(null_vector)"
   ]
  },
  {
   "cell_type": "code",
   "execution_count": 17,
   "metadata": {},
   "outputs": [
    {
     "name": "stdout",
     "output_type": "stream",
     "text": [
      "[0. 0. 0. 0. 0. 0. 0. 0. 0. 0.]\n",
      "[ 0.  0.  0.  0.  0. 11.  0.  0.  0.  0.]\n"
     ]
    }
   ],
   "source": [
    "#Q3: Write a Python program to create a null vector of size 10 and update sixth value to 11.\n",
    "null_vector = np.zeros(10)\n",
    "print(null_vector)\n",
    "null_vector[5] = 11\n",
    "print(null_vector)"
   ]
  },
  {
   "cell_type": "code",
   "execution_count": 19,
   "metadata": {},
   "outputs": [
    {
     "name": "stdout",
     "output_type": "stream",
     "text": [
      "[12 13 14 15 16 17 18 19 20 21 22 23 24 25 26 27 28 29 30 31 32 33 34 35\n",
      " 36 37]\n",
      "[37 36 35 34 33 32 31 30 29 28 27 26 25 24 23 22 21 20 19 18 17 16 15 14\n",
      " 13 12]\n"
     ]
    }
   ],
   "source": [
    "#4: Write a Python program to reverse an array (first element becomes last).\n",
    "og_array = np.array([12, 13, 14, 15, 16, 17, 18, 19, 20, 21, 22, 23, 24, 25, 26, 27, 28, 29, 30, 31, 32, 33, 34, 35, 36, 37])\n",
    "print(og_array)\n",
    "rev_array = np.flip(og_array)\n",
    "print(rev_array)"
   ]
  },
  {
   "cell_type": "code",
   "execution_count": 21,
   "metadata": {},
   "outputs": [
    {
     "name": "stdout",
     "output_type": "stream",
     "text": [
      "Original array:\n",
      "[[0 0 0 0 0]\n",
      " [0 0 0 0 0]\n",
      " [0 0 0 0 0]\n",
      " [0 0 0 0 0]\n",
      " [0 0 0 0 0]]\n",
      "\n",
      "1 on the border and 0 inside in the array\n",
      "[[1 1 1 1 1]\n",
      " [1 0 0 0 1]\n",
      " [1 0 0 0 1]\n",
      " [1 0 0 0 1]\n",
      " [1 1 1 1 1]]\n"
     ]
    }
   ],
   "source": [
    "#5: Write a Python program to create a 2d array with 1 on the border and 0 inside.\n",
    "array = np.zeros((5, 5), dtype = \"i\")\n",
    "\n",
    "print(\"Original array:\")\n",
    "print(array)\n",
    "\n",
    "array[0, :] = 1\n",
    "array[-1, :] = 1\n",
    "array[:, 0] = 1\n",
    "array[:, -1] = 1\n",
    "\n",
    "print(\"\\n1 on the border and 0 inside in the array\")\n",
    "print(array)\n"
   ]
  },
  {
   "cell_type": "code",
   "execution_count": 23,
   "metadata": {},
   "outputs": [
    {
     "name": "stdout",
     "output_type": "stream",
     "text": [
      "Original array:\n",
      "[[1 1 1]\n",
      " [1 1 1]\n",
      " [1 1 1]]\n",
      "\n",
      "Array with border:\n",
      "[[0 0 0 0 0]\n",
      " [0 1 1 1 0]\n",
      " [0 1 1 1 0]\n",
      " [0 1 1 1 0]\n",
      " [0 0 0 0 0]]\n"
     ]
    }
   ],
   "source": [
    "#Q6: Write a Python program to add a border (filled with 0's) around an existing array.\n",
    "original_array = np.ones((3, 3),dtype=\"i\")\n",
    "\n",
    "array = np.pad(original_array, pad_width=1, constant_values=0)\n",
    "\n",
    "print(\"Original array:\")\n",
    "print(original_array)\n",
    "\n",
    "print(\"\\nArray with border:\")\n",
    "print(array)\n"
   ]
  },
  {
   "cell_type": "code",
   "execution_count": 25,
   "metadata": {},
   "outputs": [
    {
     "name": "stdout",
     "output_type": "stream",
     "text": [
      "Checkerboard pattern:\n",
      "[[0 1 0 1 0 1 0 1]\n",
      " [1 0 1 0 1 0 1 0]\n",
      " [0 1 0 1 0 1 0 1]\n",
      " [1 0 1 0 1 0 1 0]\n",
      " [0 1 0 1 0 1 0 1]\n",
      " [1 0 1 0 1 0 1 0]\n",
      " [0 1 0 1 0 1 0 1]\n",
      " [1 0 1 0 1 0 1 0]]\n"
     ]
    }
   ],
   "source": [
    "#Q7: Write a Python program to create a 8x8 matrix and fill it with a checkerboard pattern. \n",
    "\n",
    "checkerboard = np.zeros((8, 8), dtype=int)\n",
    "checkerboard[1::2, ::2] = 1\n",
    "checkerboard[::2, 1::2] = 1\n",
    "\n",
    "print(\"Checkerboard pattern:\")\n",
    "print(checkerboard)"
   ]
  },
  {
   "cell_type": "code",
   "execution_count": 27,
   "metadata": {},
   "outputs": [
    {
     "name": "stdout",
     "output_type": "stream",
     "text": [
      "List to array:\n",
      "[1 2 3 4 5 6 7 8]\n",
      "\n",
      "Tuple to array:\n",
      "[[8 4 6]\n",
      " [1 2 3]]\n"
     ]
    }
   ],
   "source": [
    "#Q8. Write a Python program to convert a list and tuple into arrays.\n",
    "lst = [1, 2, 3, 4, 5, 6, 7, 8]\n",
    "array_from_list = np.array(lst)\n",
    "print(\"List to array:\")\n",
    "print(array_from_list)\n",
    "\n",
    "tpl = ((8, 4, 6), (1, 2, 3))\n",
    "array_from_tuple = np.array(tpl)\n",
    "print(\"\\nTuple to array:\")\n",
    "print(array_from_tuple)\n"
   ]
  },
  {
   "cell_type": "code",
   "execution_count": 29,
   "metadata": {},
   "outputs": [
    {
     "name": "stdout",
     "output_type": "stream",
     "text": [
      "Original array:\n",
      "[10 20 30]\n",
      "\n",
      "After appending values to the end of the array:\n",
      "[10 20 30 40 50 60 70 80 90]\n"
     ]
    }
   ],
   "source": [
    "#Q9. Write a Python program to append values to the end of an array.\n",
    "array = np.array([10, 20, 30])\n",
    "print(\"Original array:\")\n",
    "print(array)\n",
    "\n",
    "new_values = [40, 50, 60, 70, 80, 90]\n",
    "array = np.append(array, new_values)\n",
    "\n",
    "print(\"\\nAfter appending values to the end of the array:\")\n",
    "print(array)"
   ]
  },
  {
   "cell_type": "code",
   "execution_count": 31,
   "metadata": {},
   "outputs": [
    {
     "name": "stdout",
     "output_type": "stream",
     "text": [
      "Original array:\n",
      "[1.        +0.j         0.70710678+0.70710678j]\n",
      "\n",
      "Real part of the array:\n",
      "[1.         0.70710678]\n",
      "\n",
      "Imaginary part of the array:\n",
      "[0.         0.70710678]\n"
     ]
    }
   ],
   "source": [
    "#Q10. Write a Python program to find the real and imaginary parts of an array of complex numbers.\n",
    "complex_array = np.array([1 + 0j, 0.70710678 + 0.70710678j])\n",
    "\n",
    "print(\"Original array:\")\n",
    "print(complex_array)\n",
    "\n",
    "real_part = np.real(complex_array)\n",
    "print(\"\\nReal part of the array:\")\n",
    "print(real_part)\n",
    "\n",
    "imag_part = np.imag(complex_array)\n",
    "print(\"\\nImaginary part of the array:\")\n",
    "print(imag_part)"
   ]
  },
  {
   "cell_type": "code",
   "execution_count": 33,
   "metadata": {},
   "outputs": [
    {
     "name": "stdout",
     "output_type": "stream",
     "text": [
      "Size of the array: 3\n",
      "Length of one array element in bytes: 8\n",
      "Total bytes consumed by the elements of the array: 24\n"
     ]
    }
   ],
   "source": [
    "#Q11. Write a Python program to find the number of elements of an array, length of one array element in bytes and total bytes consumed by the elements.\n",
    "array = np.array([10, 20, 30], dtype=np.int64)\n",
    "\n",
    "size = array.size\n",
    "print(\"Size of the array:\", size)\n",
    "\n",
    "element_size = array.itemsize\n",
    "print(\"Length of one array element in bytes:\", element_size)\n",
    "\n",
    "total_size = array.nbytes\n",
    "print(\"Total bytes consumed by the elements of the array:\", total_size)"
   ]
  },
  {
   "cell_type": "code",
   "execution_count": 35,
   "metadata": {},
   "outputs": [
    {
     "name": "stdout",
     "output_type": "stream",
     "text": [
      "Array1 dimension: 1\n",
      "Array2 dimension: 1\n",
      "Array1: [ 0 10 20 40 60]\n",
      "Array2: [10 30 40]\n",
      "\n",
      "Common values between two arrays:\n",
      "[10 40]\n"
     ]
    }
   ],
   "source": [
    "#Q12. Write a Python program to find common values between two arrays.\n",
    "array1 = np.array([0, 10, 20, 40, 60])\n",
    "array2 = np.array([10, 30, 40])\n",
    "\n",
    "print(\"Array1 dimension:\", array1.ndim)\n",
    "print(\"Array2 dimension:\", array2.ndim, end=\"\\n\")\n",
    "\n",
    "print(\"Array1:\", array1)\n",
    "print(\"Array2:\", array2)\n",
    "\n",
    "common_values = np.intersect1d(array1, array2)\n",
    "print(\"\\nCommon values between two arrays:\")\n",
    "print(common_values)\n"
   ]
  },
  {
   "cell_type": "code",
   "execution_count": 37,
   "metadata": {},
   "outputs": [
    {
     "name": "stdout",
     "output_type": "stream",
     "text": [
      "Array1: [ 0 10 20 40 60 80]\n",
      "Array2: [10 30 40 50 70 90]\n",
      "\n",
      "Set difference between two arrays:\n",
      "[ 0 20 60 80]\n"
     ]
    }
   ],
   "source": [
    "#Q13 Write a Python program to find the set difference of two arrays. The set difference will return the sorted, unique values in array1 that are not in array2.\n",
    "array1 = np.array([0, 10, 20, 40, 60, 80])\n",
    "array2 = np.array([10, 30, 40, 50, 70, 90])\n",
    "\n",
    "print(\"Array1:\", array1)\n",
    "print(\"Array2:\", array2)\n",
    "\n",
    "set_difference = np.setdiff1d(array1, array2)\n",
    "print(\"\\nSet difference between two arrays:\")\n",
    "print(set_difference)"
   ]
  },
  {
   "cell_type": "code",
   "execution_count": 39,
   "metadata": {},
   "outputs": [
    {
     "name": "stdout",
     "output_type": "stream",
     "text": [
      "Array1: [ 0 10 20 40 60 80]\n",
      "Array2: [10 30 40 50 70]\n",
      "\n",
      "Unique values that are in only one (not both) of the input arrays:\n",
      "[ 0 20 30 50 60 70 80]\n"
     ]
    }
   ],
   "source": [
    "#Q14. Write a Python program to find the set exclusive-or of two arrays. Set exclusive-or will return the sorted, unique values that are in only one (not both) of the input arrays.\n",
    "array1 = np.array([0, 10, 20, 40, 60, 80])\n",
    "array2 = np.array([10, 30, 40, 50, 70])\n",
    "\n",
    "print(\"Array1:\", array1)\n",
    "print(\"Array2:\", array2)\n",
    "\n",
    "set_xor = np.setxor1d(array1, array2)\n",
    "print(\"\\nUnique values that are in only one (not both) of the input arrays:\")\n",
    "print(set_xor)"
   ]
  },
  {
   "cell_type": "code",
   "execution_count": 41,
   "metadata": {},
   "outputs": [
    {
     "name": "stdout",
     "output_type": "stream",
     "text": [
      "Array a: [1 2]\n",
      "Array b: [4 5]\n",
      "\n",
      "a > b\n",
      "[False False]\n",
      "\n",
      "a >= b\n",
      "[False False]\n",
      "\n",
      "a < b\n",
      "[ True  True]\n",
      "\n",
      "a <= b\n",
      "[ True  True]\n"
     ]
    }
   ],
   "source": [
    "#Q15. Write a Python program compare two arrays using numpy.\n",
    "a = np.array([1, 2])\n",
    "b = np.array([4, 5])\n",
    "\n",
    "print(\"Array a:\", a)\n",
    "print(\"Array b:\", b)\n",
    "\n",
    "print(\"\\na > b\")\n",
    "print(a > b)\n",
    "\n",
    "print(\"\\na >= b\")\n",
    "print(a >= b)\n",
    "\n",
    "print(\"\\na < b\")\n",
    "print(a < b)\n",
    "\n",
    "print(\"\\na <= b\")\n",
    "print(a <= b)\n"
   ]
  },
  {
   "cell_type": "code",
   "execution_count": 43,
   "metadata": {},
   "outputs": [
    {
     "name": "stdout",
     "output_type": "stream",
     "text": [
      "Array saved to array.txt\n"
     ]
    }
   ],
   "source": [
    "#Q: Write a Python program to save a NumPy array to a text file.\n",
    "array = np.array([[1, 2, 3], [4, 5, 6]])\n",
    "\n",
    "np.savetxt(\"array.txt\", array, fmt=\"%d\")\n",
    "\n",
    "print(\"Array saved to array.txt\")"
   ]
  },
  {
   "cell_type": "code",
   "execution_count": 45,
   "metadata": {},
   "outputs": [
    {
     "name": "stdout",
     "output_type": "stream",
     "text": [
      "Original array:\n",
      "[[10 20 30]\n",
      " [20 40 50]]\n",
      "\n",
      " New flattened array:  [10 20 30 20 40 50]\n"
     ]
    }
   ],
   "source": [
    "#Q16. Write a Python program to create a contiguous flattened array.\n",
    "array = np.array([[10, 20, 30], [20, 40, 50]])\n",
    "\n",
    "print(\"Original array:\")\n",
    "print(array)\n",
    "\n",
    "flattened_array = array.ravel()\n",
    "\n",
    "print(\"\\n New flattened array: \",flattened_array)"
   ]
  },
  {
   "cell_type": "code",
   "execution_count": 47,
   "metadata": {},
   "outputs": [
    {
     "name": "stdout",
     "output_type": "stream",
     "text": [
      "Original array:\n",
      "[[ 2  4  6]\n",
      " [ 6  8 10]]\n",
      "\n",
      "Data type of the array x is: int64\n",
      "\n",
      "New Type: float64\n",
      "[[ 2.  4.  6.]\n",
      " [ 6.  8. 10.]]\n"
     ]
    }
   ],
   "source": [
    "#Q17. Write a Python program to change the data type of an array.\n",
    "array = np.array([[2, 4, 6], [6, 8, 10]], dtype=int)\n",
    "\n",
    "print(\"Original array:\")\n",
    "print(array)\n",
    "print(\"\\nData type of the array x is:\", array.dtype)\n",
    "\n",
    "new_array = array.astype(float)\n",
    "print(\"\\nNew Type:\", new_array.dtype)\n",
    "print(new_array)\n"
   ]
  },
  {
   "cell_type": "code",
   "execution_count": 49,
   "metadata": {},
   "outputs": [
    {
     "name": "stdout",
     "output_type": "stream",
     "text": [
      "Expected Output:\n",
      "[[1. 0. 0.]\n",
      " [0. 1. 0.]\n",
      " [0. 0. 1.]]\n"
     ]
    }
   ],
   "source": [
    "#Q18. Write a Python program to create a 3-D array with ones on a diagonal and zeros elsewhere.\n",
    "array = np.eye(3)\n",
    "\n",
    "print(\"Expected Output:\")\n",
    "print(array)"
   ]
  },
  {
   "cell_type": "code",
   "execution_count": 51,
   "metadata": {},
   "outputs": [
    {
     "name": "stdout",
     "output_type": "stream",
     "text": [
      "Expected Output:\n",
      "[[0. 0. 0.]\n",
      " [1. 0. 0.]\n",
      " [1. 1. 0.]\n",
      " [1. 1. 1.]]\n"
     ]
    }
   ],
   "source": [
    "#Q19. Write a Python program to create an array which looks like below array.\n",
    "array = np.array([[0., 0., 0.],\n",
    "                  [1., 0., 0.],\n",
    "                  [1., 1., 0.],\n",
    "                  [1., 1., 1.]])\n",
    "\n",
    "print(\"Expected Output:\")\n",
    "print(array)"
   ]
  },
  {
   "cell_type": "code",
   "execution_count": 53,
   "metadata": {},
   "outputs": [
    {
     "name": "stdout",
     "output_type": "stream",
     "text": [
      "Expected Output:\n",
      "[[ 0  1  3  0  2  4]\n",
      " [ 5  7  9  6  8 10]]\n"
     ]
    }
   ],
   "source": [
    "#Q20. Write a Python program to conc-dimenatenate two 2sional arrays.\n",
    "array1 = np.array([[0, 1, 3], [5, 7, 9]])\n",
    "array2 = np.array([[0, 2, 4], [6, 8, 10]])\n",
    "\n",
    "concatenated_array = np.concatenate((array1, array2), axis=1)\n",
    "\n",
    "print(\"Expected Output:\")\n",
    "print(concatenated_array)\n"
   ]
  },
  {
   "cell_type": "code",
   "execution_count": 55,
   "metadata": {},
   "outputs": [
    {
     "name": "stdout",
     "output_type": "stream",
     "text": [
      "Immutable array: [1 2 3 4 5]\n"
     ]
    }
   ],
   "source": [
    "#Q21. Write a Python program to make an array immutable (read-only).\n",
    "array = np.array([1, 2, 3, 4, 5])\n",
    "\n",
    "array.setflags(write=False)\n",
    "\n",
    "print(\"Immutable array:\", array)\n",
    "\n",
    "# Uncommenting the below line will raise an error\n",
    "# array[0] = 10  \n",
    "# array.append(0)"
   ]
  },
  {
   "cell_type": "code",
   "execution_count": 57,
   "metadata": {},
   "outputs": [
    {
     "name": "stdout",
     "output_type": "stream",
     "text": [
      "Original array elements:\n",
      "[[ 0  1  2  3]\n",
      " [ 4  5  6  7]\n",
      " [ 8  9 10 11]]\n",
      "\n",
      "New array elements:\n",
      "[[ 0  3  6  9]\n",
      " [12 15 18 21]\n",
      " [24 27 30 33]]\n"
     ]
    }
   ],
   "source": [
    "#Q22. Write a Python program to create an array of (3, 4) shape, multiply every element value by 3 and display the new array.\n",
    "array = np.arange(12).reshape(3, 4)\n",
    "\n",
    "print(\"Original array elements:\")\n",
    "print(array)\n",
    "\n",
    "new_array = array * 3\n",
    "\n",
    "print(\"\\nNew array elements:\")\n",
    "print(new_array)\n"
   ]
  },
  {
   "cell_type": "code",
   "execution_count": 59,
   "metadata": {},
   "outputs": [
    {
     "name": "stdout",
     "output_type": "stream",
     "text": [
      "Original array elements:\n",
      "[[0 1]\n",
      " [2 3]\n",
      " [4 5]]\n",
      "\n",
      "Array to list:\n",
      "[[0, 1], [2, 3], [4, 5]]\n"
     ]
    }
   ],
   "source": [
    "#Q23: Write a Python program to convert a NumPy array into Python list structure.\n",
    "array = np.array([[0, 1], [2, 3], [4, 5]])\n",
    "\n",
    "print(\"Original array elements:\")\n",
    "print(array)\n",
    "\n",
    "array_list = array.tolist()\n",
    "\n",
    "print(\"\\nArray to list:\")\n",
    "print(array_list)\n"
   ]
  },
  {
   "cell_type": "code",
   "execution_count": 61,
   "metadata": {},
   "outputs": [
    {
     "name": "stdout",
     "output_type": "stream",
     "text": [
      "Original array elements:\n",
      "[0.22435751 0.35401783 0.71403934 0.28816534 0.65331209 0.10443087\n",
      " 0.6137953  0.49390102 0.38670436 0.02303512]\n",
      "\n",
      "Print array values with precision 3:\n",
      "[[0, 1], [2, 3], [4, 5]]\n"
     ]
    }
   ],
   "source": [
    "#Q24: Write a Python program to convert a NumPy array into Python list structure.\n",
    "og_array = np.random.rand(10)\n",
    "\n",
    "print(\"Original array elements:\")\n",
    "print(og_array)\n",
    "\n",
    "formatted_array = np.around(array, decimals=3).tolist()\n",
    "\n",
    "print(\"\\nPrint array values with precision 3:\")\n",
    "print(formatted_array)\n"
   ]
  },
  {
   "cell_type": "code",
   "execution_count": 63,
   "metadata": {},
   "outputs": [
    {
     "name": "stdout",
     "output_type": "stream",
     "text": [
      "Original array elements:\n",
      "[1.60e-10 1.60e+00 1.20e+03 2.35e-01]\n",
      "\n",
      "Print array values with precision 3:\n",
      "[   0.       1.6   1200.       0.235]\n"
     ]
    }
   ],
   "source": [
    "#Q25 Write a Python program to suppresses the use of scientific notation for small\n",
    "array = np.array([1.6e-10, 1.6, 1.2e3, 2.35e-1])\n",
    "\n",
    "print(\"Original array elements:\")\n",
    "print(array)\n",
    "\n",
    "np.set_printoptions(suppress=True, precision=3)\n",
    "\n",
    "print(\"\\nPrint array values with precision 3:\")\n",
    "print(array)\n"
   ]
  },
  {
   "cell_type": "code",
   "execution_count": 65,
   "metadata": {},
   "outputs": [
    {
     "name": "stdout",
     "output_type": "stream",
     "text": [
      "[[ 10  20  30 100]\n",
      " [ 40  50  60 200]]\n"
     ]
    }
   ],
   "source": [
    "#Q26. Write a Python program to how to add an extra column to an numpy array.\n",
    "array = np.array([[10, 20, 30], [40, 50, 60]])\n",
    "\n",
    "extra_column = np.array([[100], [200]])\n",
    "\n",
    "new_array = np.concatenate((array,extra_column), axis=1)\n",
    "\n",
    "print(new_array)\n"
   ]
  },
  {
   "cell_type": "code",
   "execution_count": 67,
   "metadata": {},
   "outputs": [
    {
     "name": "stdout",
     "output_type": "stream",
     "text": [
      "Original array:\n",
      "[ 10  20  30  40  50  60  70  80  90 100]\n",
      "\n",
      "Delete first, fourth and fifth elements:\n",
      "[ 20  30  60  70  80  90 100]\n"
     ]
    }
   ],
   "source": [
    "#Q27. Write a Python program to remove specific elements in a numpy array.\n",
    "array = np.array([10, 20, 30, 40, 50, 60, 70, 80, 90, 100])\n",
    "\n",
    "print(\"Original array:\")\n",
    "print(array)\n",
    "\n",
    "indices_to_delete = [0, 3, 4]\n",
    "\n",
    "new_array = np.delete(array, indices_to_delete )\n",
    "\n",
    "print(\"\\nDelete first, fourth and fifth elements:\")\n",
    "print(new_array)\n"
   ]
  },
  {
   "cell_type": "code",
   "execution_count": null,
   "metadata": {},
   "outputs": [],
   "source": []
  }
 ],
 "metadata": {
  "kernelspec": {
   "display_name": "Python 3 (ipykernel)",
   "language": "python",
   "name": "python3"
  },
  "language_info": {
   "codemirror_mode": {
    "name": "ipython",
    "version": 3
   },
   "file_extension": ".py",
   "mimetype": "text/x-python",
   "name": "python",
   "nbconvert_exporter": "python",
   "pygments_lexer": "ipython3",
   "version": "3.12.4"
  }
 },
 "nbformat": 4,
 "nbformat_minor": 4
}
