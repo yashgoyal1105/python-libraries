{
 "cells": [
  {
   "cell_type": "markdown",
   "id": "19b6d6d8-e4b2-4180-b210-4976e36381a9",
   "metadata": {},
   "source": [
    "<h3><center>Pandas - A Python Library</center></h3>\n",
    "<hr>"
   ]
  },
  {
   "cell_type": "markdown",
   "id": "1ff224c8-02f6-43a2-8490-1f92e629fbf7",
   "metadata": {},
   "source": [
    "**Q1. Write a Python program to create and display a one-dimensional array-like object containing an array of data using Pandas module.**"
   ]
  },
  {
   "cell_type": "code",
   "execution_count": 48,
   "id": "d2e2f534-4be8-4f7f-ba14-b51a87187860",
   "metadata": {},
   "outputs": [
    {
     "name": "stdout",
     "output_type": "stream",
     "text": [
      "Pandas Series:\n",
      "0     12.23\n",
      "1     13.32\n",
      "2    100.00\n",
      "3     36.32\n",
      "dtype: float64\n",
      "\n",
      "Accessing elements in the Series:\n",
      "First element: 12.23\n",
      "Second element: 13.32\n",
      "Third element: 100.0\n",
      "Fourth element: 36.32\n"
     ]
    }
   ],
   "source": [
    "import pandas as pd\n",
    "\n",
    "data = [12.23, 13.32, 100, 36.32]\n",
    "series = pd.Series(data)\n",
    "\n",
    "print(\"Pandas Series:\")\n",
    "print(series)\n",
    "\n",
    "print(\"\\nAccessing elements in the Series:\")\n",
    "print(\"First element:\", series[0])\n",
    "print(\"Second element:\", series[1])\n",
    "print(\"Third element:\", series[2])\n",
    "print(\"Fourth element:\", series[3])\n"
   ]
  },
  {
   "cell_type": "markdown",
   "id": "2205b0e2-5382-4c1e-a85e-92c7cad14b07",
   "metadata": {},
   "source": [
    "**Q2. Write a Python program to convert a Panda module Series to Python list and it's type.**"
   ]
  },
  {
   "cell_type": "code",
   "execution_count": 94,
   "id": "445bab64-e1a0-4441-90c4-d6f6eec3e530",
   "metadata": {},
   "outputs": [
    {
     "name": "stdout",
     "output_type": "stream",
     "text": [
      "Python List: [12.23, 13.32, 100.0, 36.32]\n",
      "Type of Python List: <class 'list'>\n"
     ]
    }
   ],
   "source": [
    "data = [12.23, 13.32, 100, 36.32]\n",
    "series = pd.Series(data)\n",
    "\n",
    "python_list = series.tolist()\n",
    "\n",
    "print(\"Python List:\", python_list)\n",
    "print(\"Type of Python List:\", type(python_list))"
   ]
  },
  {
   "cell_type": "markdown",
   "id": "f26fa840-4559-4a4c-93af-76e422d1a0a5",
   "metadata": {},
   "source": [
    "**3. Write a Python program to add, subtract, multiple and divide two Pandas Series. <br> Sample Series: [2, 4, 6, 8, 10], [1, 3, 5, 7, 9]**"
   ]
  },
  {
   "cell_type": "code",
   "execution_count": 99,
   "id": "815a4cb6-30f2-44bd-b50e-e0bde6ce5030",
   "metadata": {},
   "outputs": [
    {
     "name": "stdout",
     "output_type": "stream",
     "text": [
      "Addition Result:\n",
      "0     3\n",
      "1     7\n",
      "2    11\n",
      "3    15\n",
      "4    19\n",
      "dtype: int64\n",
      "\n",
      "Subtraction Result:\n",
      "0    1\n",
      "1    1\n",
      "2    1\n",
      "3    1\n",
      "4    1\n",
      "dtype: int64\n",
      "\n",
      "Multiplication Result:\n",
      "0     2\n",
      "1    12\n",
      "2    30\n",
      "3    56\n",
      "4    90\n",
      "dtype: int64\n",
      "\n",
      "Division Result:\n",
      "0    2.00\n",
      "1    1.33\n",
      "2    1.20\n",
      "3    1.14\n",
      "4    1.11\n",
      "dtype: float64\n"
     ]
    }
   ],
   "source": [
    "series1 = pd.Series([2, 4, 6, 8, 10])\n",
    "series2 = pd.Series([1, 3, 5, 7, 9])\n",
    "\n",
    "addition_result = series1.add(series2)\n",
    "print(\"Addition Result:\")\n",
    "print(addition_result)\n",
    "\n",
    "subtraction_result = series1.subtract(series2)\n",
    "print(\"\\nSubtraction Result:\")\n",
    "print(subtraction_result)\n",
    "\n",
    "multiplication_result = series1.multiply(series2)\n",
    "print(\"\\nMultiplication Result:\")\n",
    "print(multiplication_result)\n",
    "\n",
    "division_result = series1.divide(series2)\n",
    "print(\"\\nDivision Result:\")\n",
    "print(division_result.round(2))\n"
   ]
  },
  {
   "cell_type": "markdown",
   "id": "ae199e6b-8794-4a95-97f2-a0bde86e4fab",
   "metadata": {},
   "source": [
    "**Q4. Write a Python program to get the powers of an array values element-wise.** \n",
    "Note: First array elements raised to powers from second array <br>\n",
    "**Expected Output:**\n",
    "Original array\n",
    "[0 1 2 3 4 5 6]\n",
    "First array elements raised to powers from second array, element-wise:\n",
    "[ 0 1 8 27 64 125 216] "
   ]
  },
  {
   "cell_type": "code",
   "execution_count": 77,
   "id": "c06605ae-9275-4d4b-ad15-cea6d9a39aa8",
   "metadata": {},
   "outputs": [
    {
     "name": "stdout",
     "output_type": "stream",
     "text": [
      "Original base array:\n",
      "[1 2 3 4 5 6]\n",
      "\n",
      "Original exponent array:\n",
      "[3 3 3 3 3 3]\n",
      "\n",
      "First array elements raised to powers from second array, element-wise:\n",
      "[  1   8  27  64 125 216]\n"
     ]
    }
   ],
   "source": [
    "base_array = np.array([ 1, 2, 3, 4, 5, 6])\n",
    "exponent_array = np.array([3, 3, 3, 3, 3, 3])\n",
    "\n",
    "result_array = np.power(base_array, exponent_array)\n",
    "\n",
    "print(\"Original base array:\")\n",
    "print(base_array)\n",
    "print(\"\\nOriginal exponent array:\")\n",
    "print(exponent_array)\n",
    "print(\"\\nFirst array elements raised to powers from second array, element-wise:\")\n",
    "print(result_array)"
   ]
  },
  {
   "cell_type": "markdown",
   "id": "9fd2f2a5-fb4f-40c5-978e-90277beca55a",
   "metadata": {},
   "source": [
    "**Q5. Write a Python program to create and display a DataFrame from a specified dictionary\n",
    "data which has the index labels.** <br>\n",
    "**Sample Python dictionary data and list labels:** <br>\n",
    "<b>exam_data</b> = {<br>'name': ['Anastasia', 'Dima', 'Katherine', 'James', 'Emily', 'Michael',\n",
    "'Matthew', 'Laura', 'Kevin', 'Jonas'],<br>\n",
    "'score': [12.5, 9, 16.5, np.nan, 9, 20, 14.5, np.nan, 8, 19],<br>\n",
    "'attempts': [1, 3, 2, 3, 2, 3, 1, 1, 2, 1],<br>\n",
    "'qualify': ['yes', 'no', 'yes', 'no', 'no', 'yes', 'yes', 'no', 'no', 'yes']<br>} <br>\n",
    "<b>labels</b> = ['a', 'b', 'c', 'd', 'e', 'f', 'g', 'h', 'i', 'j']"
   ]
  },
  {
   "cell_type": "code",
   "execution_count": 104,
   "id": "751acbaa-772f-49bf-bd91-8e252bb8c84f",
   "metadata": {},
   "outputs": [
    {
     "name": "stdout",
     "output_type": "stream",
     "text": [
      "DataFrame:\n",
      "        name  score  attempts qualify\n",
      "a  Anastasia   12.5         1     yes\n",
      "b       Dima    9.0         3      no\n",
      "c  Katherine   16.5         2     yes\n",
      "d      James    NaN         3      no\n",
      "e      Emily    9.0         2      no\n",
      "f    Michael   20.0         3     yes\n",
      "g    Matthew   14.5         1     yes\n",
      "h      Laura    NaN         1      no\n",
      "i      Kevin    8.0         2      no\n",
      "j      Jonas   19.0         1     yes\n"
     ]
    }
   ],
   "source": [
    "exam_data = {\n",
    "    'name': ['Anastasia', 'Dima', 'Katherine', 'James', 'Emily', 'Michael', 'Matthew', 'Laura', 'Kevin', 'Jonas'],\n",
    "    'score': [12.5, 9, 16.5, np.nan, 9, 20, 14.5, np.nan, 8, 19],\n",
    "    'attempts': [1, 3, 2, 3, 2, 3, 1, 1, 2, 1],\n",
    "    'qualify': ['yes', 'no', 'yes', 'no', 'no', 'yes', 'yes', 'no', 'no', 'yes']\n",
    "}\n",
    "labels = ['a', 'b', 'c', 'd', 'e', 'f', 'g', 'h', 'i', 'j']\n",
    "\n",
    "df = pd.DataFrame(exam_data, index=labels)\n",
    "\n",
    "print(\"DataFrame:\")\n",
    "print(df)\n"
   ]
  },
  {
   "cell_type": "markdown",
   "id": "01d8b877-3340-4945-8a66-c77b2898afd7",
   "metadata": {},
   "source": [
    "**Q6. Write a Python program to display a summary of the basic information about a\n",
    "specified Data Frame and its data.** <br>\n",
    "**Sample Python dictionary data and list labels:** <br>\n",
    "<b>exam_data </b> = {<br>'name': ['Anastasia', 'Dima', 'Katherine', 'James', 'Emily', 'Michael', 'Matthew',\n",
    "'Laura', 'Kevin', 'Jonas'],\n",
    "'score': [12.5, 9, 16.5, np.nan, 9, 20, 14.5, np.nan, 8, 19],\n",
    "'attempts': [1, 3, 2, 3, 2, 3, 1, 1, 2, 1],\n",
    "'qualify': ['yes', 'no', 'yes', 'no', 'no', 'yes', 'yes', 'no', 'no', 'yes'] <br>}<br>\n",
    "<b>labels </b>= ['a', 'b', 'c', 'd', 'e', 'f', 'g', 'h', 'i', 'j']"
   ]
  },
  {
   "cell_type": "code",
   "execution_count": 132,
   "id": "d2fa6e17-b387-464a-b5c5-8916055ae6e4",
   "metadata": {},
   "outputs": [
    {
     "name": "stdout",
     "output_type": "stream",
     "text": [
      "DataFrame Summary:\n",
      "<class 'pandas.core.frame.DataFrame'>\n",
      "Index: 10 entries, a to j\n",
      "Data columns (total 4 columns):\n",
      " #   Column    Non-Null Count  Dtype  \n",
      "---  ------    --------------  -----  \n",
      " 0   name      10 non-null     object \n",
      " 1   score     8 non-null      float64\n",
      " 2   attempts  10 non-null     int64  \n",
      " 3   qualify   10 non-null     object \n",
      "dtypes: float64(1), int64(1), object(2)\n",
      "memory usage: 400.0+ bytes\n",
      "\n",
      "Statistical Summary of Numeric Columns:\n",
      "\n",
      "First Few Rows of the DataFrame:\n",
      "        name  score  attempts qualify\n",
      "a  Anastasia   12.5         1     yes\n",
      "b       Dima    9.0         3      no\n",
      "c  Katherine   16.5         2     yes\n",
      "d      James    NaN         3      no\n",
      "e      Emily    9.0         2      no\n"
     ]
    }
   ],
   "source": [
    "import numpy as np\n",
    "\n",
    "exam_data = {\n",
    "    'name': ['Anastasia', 'Dima', 'Katherine', 'James', 'Emily', 'Michael', 'Matthew', 'Laura', 'Kevin', 'Jonas'],\n",
    "    'score': [12.5, 9, 16.5, np.nan, 9, 20, 14.5, np.nan, 8, 19],\n",
    "    'attempts': [1, 3, 2, 3, 2, 3, 1, 1, 2, 1],\n",
    "    'qualify': ['yes', 'no', 'yes', 'no', 'no', 'yes', 'yes', 'no', 'no', 'yes']\n",
    "}\n",
    "labels = ['a', 'b', 'c', 'd', 'e', 'f', 'g', 'h', 'i', 'j']\n",
    "\n",
    "df = pd.DataFrame(exam_data, index=labels)\n",
    "\n",
    "print(\"DataFrame Summary:\")\n",
    "df.info()\n",
    "\n",
    "print(\"\\nStatistical Summary of Numeric Columns:\")\n",
    "df.describe()\n",
    "\n",
    "print(\"\\nFirst Few Rows of the DataFrame:\")\n",
    "print(df.head())\n"
   ]
  },
  {
   "cell_type": "markdown",
   "id": "e6240bde-f8c3-4eaf-87ba-406571f02b17",
   "metadata": {},
   "source": [
    "**Q7. Write a Python program to get the first 3 rows of a given DataFrame.\n",
    "Sample Python dictionary data and list labels:** <br>\n",
    "<b>exam_data</b>= {<br>'name': ['Anastasia', 'Dima', 'Katherine', 'James', 'Emily', 'Michael', 'Matthew',\n",
    "'Laura', 'Kevin', 'Jonas'],\n",
    "'score': [12.5, 9, 16.5, np.nan, 9, 20, 14.5, np.nan, 8, 19],\n",
    "'attempts': [1, 3, 2, 3, 2, 3, 1, 1, 2, 1],\n",
    "'qualify': ['yes', 'no', 'yes', 'no', 'no', 'yes', 'yes', 'no', 'no', 'yes']<br>}<br>\n",
    "<b>labels</b>= ['a', 'b', 'c', 'd', 'e', 'f', 'g', 'h', 'i', 'j']"
   ]
  },
  {
   "cell_type": "code",
   "execution_count": 134,
   "id": "8cb31878-7b23-4f65-a8bf-11b8a3038387",
   "metadata": {},
   "outputs": [
    {
     "name": "stdout",
     "output_type": "stream",
     "text": [
      "First 3 Rows of the DataFrame:\n",
      "        name  score  attempts qualify\n",
      "a  Anastasia   12.5         1     yes\n",
      "b       Dima    9.0         3      no\n",
      "c  Katherine   16.5         2     yes\n"
     ]
    }
   ],
   "source": [
    "exam_data = {\n",
    "    'name': ['Anastasia', 'Dima', 'Katherine', 'James', 'Emily', 'Michael', 'Matthew', 'Laura', 'Kevin', 'Jonas'],\n",
    "    'score': [12.5, 9, 16.5, np.nan, 9, 20, 14.5, np.nan, 8, 19],\n",
    "    'attempts': [1, 3, 2, 3, 2, 3, 1, 1, 2, 1],\n",
    "    'qualify': ['yes', 'no', 'yes', 'no', 'no', 'yes', 'yes', 'no', 'no', 'yes']\n",
    "}\n",
    "labels = ['a', 'b', 'c', 'd', 'e', 'f', 'g', 'h', 'i', 'j']\n",
    "\n",
    "df = pd.DataFrame(exam_data, index=labels)\n",
    "\n",
    "first_3_rows = df.head(3)\n",
    "\n",
    "print(\"First 3 Rows of the DataFrame:\")\n",
    "print(first_3_rows)\n"
   ]
  },
  {
   "cell_type": "markdown",
   "id": "0e2dc0a1-70cd-4bf8-9e59-4ed91e04a035",
   "metadata": {},
   "source": [
    "**Q8. Write a Python program to select the 'name' and 'score' columns from the following\n",
    "DataFrame.** <br>\n",
    "**Sample Python dictionary data and list labels:** <br>\n",
    "<b>exam_data</b> = {<br>'name': ['Anastasia', 'Dima', 'Katherine', 'James', 'Emily', 'Michael', 'Matthew',\n",
    "'Laura', 'Kevin', 'Jonas'],<br>\n",
    "'score': [12.5, 9, 16.5, np.nan, 9, 20, 14.5, np.nan, 8, 19],<br>\n",
    "'attempts': [1, 3, 2, 3, 2, 3, 1, 1, 2, 1],<br>\n",
    "'qualify': ['yes', 'no', 'yes', 'no', 'no', 'yes', 'yes', 'no', 'no', 'yes']<br>}<br>\n",
    "<b>labels</b> = ['a', 'b', 'c', 'd', 'e', 'f', 'g', 'h', 'i', 'j']"
   ]
  },
  {
   "cell_type": "code",
   "execution_count": 138,
   "id": "c4cc68cc-ccf0-4f10-b83b-69654c28a6f3",
   "metadata": {},
   "outputs": [
    {
     "name": "stdout",
     "output_type": "stream",
     "text": [
      "Selected Columns ('name' and 'score'):\n",
      "        name  score\n",
      "a  Anastasia   12.5\n",
      "b       Dima    9.0\n",
      "c  Katherine   16.5\n",
      "d      James    NaN\n",
      "e      Emily    9.0\n",
      "f    Michael   20.0\n",
      "g    Matthew   14.5\n",
      "h      Laura    NaN\n",
      "i      Kevin    8.0\n",
      "j      Jonas   19.0\n"
     ]
    }
   ],
   "source": [
    "exam_data = {\n",
    "    'name': ['Anastasia', 'Dima', 'Katherine', 'James', 'Emily', 'Michael', 'Matthew', 'Laura', 'Kevin', 'Jonas'],\n",
    "    'score': [12.5, 9, 16.5, np.nan, 9, 20, 14.5, np.nan, 8, 19],\n",
    "    'attempts': [1, 3, 2, 3, 2, 3, 1, 1, 2, 1],\n",
    "    'qualify': ['yes', 'no', 'yes', 'no', 'no', 'yes', 'yes', 'no', 'no', 'yes']\n",
    "}\n",
    "labels = ['a', 'b', 'c', 'd', 'e', 'f', 'g', 'h', 'i', 'j']\n",
    "\n",
    "df = pd.DataFrame(exam_data, index=labels)\n",
    "\n",
    "selected_columns = df[['name', 'score']]\n",
    "\n",
    "print(\"Selected Columns ('name' and 'score'):\")\n",
    "print(selected_columns)\n"
   ]
  },
  {
   "cell_type": "markdown",
   "id": "94107dad-8c20-411f-a8d9-fceea8b54a90",
   "metadata": {},
   "source": [
    "**Q9. Write a Python program to select the specified columns and rows from a given data frame.**\n",
    "**Select 'name' and 'score' columns in rows 1, 3, 5, 6 from the following data frame.** <br>\n",
    "<b>exam_data</b> = {<br>'name': ['Anastasia', 'Dima', 'Katherine', 'James', 'Emily', 'Michael', 'Matthew',\n",
    "'Laura', 'Kevin', 'Jonas'],<br>\n",
    "'score': [12.5, 9, 16.5, np.nan, 9, 20, 14.5, np.nan, 8, 19],<br>\n",
    "'attempts': [1, 3, 2, 3, 2, 3, 1, 1, 2, 1],<br>\n",
    "'qualify': ['yes', 'no', 'yes', 'no', 'no', 'yes', 'yes', 'no', 'no', 'yes']<br>}<br>\n",
    "<b>labels</b> = ['a', 'b', 'c', 'd', 'e', 'f', 'g', 'h', 'i', 'j']"
   ]
  },
  {
   "cell_type": "code",
   "execution_count": 150,
   "id": "4a03006c-118b-4d1b-a49e-9c066aaee0ea",
   "metadata": {},
   "outputs": [
    {
     "name": "stdout",
     "output_type": "stream",
     "text": [
      "Selected Data:\n",
      "        name  score\n",
      "a  Anastasia   12.5\n",
      "c  Katherine   16.5\n",
      "e      Emily    9.0\n",
      "f    Michael   20.0\n"
     ]
    }
   ],
   "source": [
    "exam_data = {\n",
    "    'name': ['Anastasia', 'Dima', 'Katherine', 'James', 'Emily', 'Michael', 'Matthew', 'Laura', 'Kevin', 'Jonas'],\n",
    "    'score': [12.5, 9, 16.5, np.nan, 9, 20, 14.5, np.nan, 8, 19],\n",
    "    'attempts': [1, 3, 2, 3, 2, 3, 1, 1, 2, 1],\n",
    "    'qualify': ['yes', 'no', 'yes', 'no', 'no', 'yes', 'yes', 'no', 'no', 'yes']\n",
    "}\n",
    "labels = ['a', 'b', 'c', 'd', 'e', 'f', 'g', 'h', 'i', 'j']\n",
    "\n",
    "df = pd.DataFrame(exam_data, index=labels)\n",
    "\n",
    "selected_data = df.loc[['a', 'c', 'e', 'f'], ['name', 'score']]\n",
    "\n",
    "print(\"Selected Data:\")\n",
    "print(selected_data)\n"
   ]
  },
  {
   "cell_type": "markdown",
   "id": "2cbc946e-6ca4-4cc0-884f-cf36b0a9e25b",
   "metadata": {},
   "source": [
    "**Q10. Write a Python program to select the rows where the number of attempts in the\n",
    "examination is greater than 2.** <br>\n",
    "<b> exam_data</b> = {<br>'name': ['Anastasia', 'Dima', 'Katherine', 'James', 'Emily', 'Michael', 'Matthew',\n",
    "'Laura', 'Kevin', 'Jonas'],<br>\n",
    "'score': [12.5, 9, 16.5, np.nan, 9, 20, 14.5, np.nan, 8, 19],<br>\n",
    "'attempts': [1, 3, 2, 3, 2, 3, 1, 1, 2, 1],<br>\n",
    "'qualify': ['yes', 'no', 'yes', 'no', 'no', 'yes', 'yes', 'no', 'no', 'yes']<br>}<br>\n",
    "<b> labels</b>  = ['a', 'b', 'c', 'd', 'e', 'f', 'g', 'h', 'i', 'j']"
   ]
  },
  {
   "cell_type": "code",
   "execution_count": 152,
   "id": "34680638-cbe1-444c-9a06-dce8717df9f2",
   "metadata": {},
   "outputs": [
    {
     "name": "stdout",
     "output_type": "stream",
     "text": [
      "Rows where the number of attempts is greater than 2:\n",
      "      name  score  attempts qualify\n",
      "b     Dima    9.0         3      no\n",
      "d    James    NaN         3      no\n",
      "f  Michael   20.0         3     yes\n"
     ]
    }
   ],
   "source": [
    "exam_data = {\n",
    "    'name': ['Anastasia', 'Dima', 'Katherine', 'James', 'Emily', 'Michael', 'Matthew', 'Laura', 'Kevin', 'Jonas'],\n",
    "    'score': [12.5, 9, 16.5, np.nan, 9, 20, 14.5, np.nan, 8, 19],\n",
    "    'attempts': [1, 3, 2, 3, 2, 3, 1, 1, 2, 1],\n",
    "    'qualify': ['yes', 'no', 'yes', 'no', 'no', 'yes', 'yes', 'no', 'no', 'yes']\n",
    "}\n",
    "labels = ['a', 'b', 'c', 'd', 'e', 'f', 'g', 'h', 'i', 'j']\n",
    "\n",
    "df = pd.DataFrame(exam_data, index=labels)\n",
    "\n",
    "selected_rows = df[df['attempts'] > 2]\n",
    "\n",
    "print(\"Rows where the number of attempts is greater than 2:\")\n",
    "print(selected_rows)\n"
   ]
  },
  {
   "cell_type": "markdown",
   "id": "bc7c532c-79fb-4a4f-ae15-a8d56e2d7822",
   "metadata": {},
   "source": [
    "**Q11. Write a Python program to count the number of rows and columns of a DataFrame.\n",
    "Sample data:** <br>\n",
    "<b>exam_data</b> = {<br>'name': ['Anastasia', 'Dima', 'Katherine', 'James', 'Emily', 'Michael', 'Matthew',\n",
    "'Laura', 'Kevin', 'Jonas'],<br>\n",
    "'score': [12.5, 9, 16.5, np.nan, 9, 20, 14.5, np.nan, 8, 19],<br>\n",
    "'attempts': [1, 3, 2, 3, 2, 3, 1, 1, 2, 1],<br>\n",
    "'qualify': ['yes', 'no', 'yes', 'no', 'no', 'yes', 'yes', 'no', 'no', 'yes']<br>}<br>\n",
    "<b>labels</b> = ['a', 'b', 'c', 'd', 'e', 'f', 'g', 'h', 'i', 'j']"
   ]
  },
  {
   "cell_type": "code",
   "execution_count": 159,
   "id": "d917fa5c-e2a0-4c13-a705-6d58b5f33832",
   "metadata": {},
   "outputs": [
    {
     "name": "stdout",
     "output_type": "stream",
     "text": [
      "Number of Rows: 10\n",
      "Number of Columns: 4\n"
     ]
    }
   ],
   "source": [
    "exam_data = {\n",
    "    'name': ['Anastasia', 'Dima', 'Katherine', 'James', 'Emily', 'Michael', 'Matthew', 'Laura', 'Kevin', 'Jonas'],\n",
    "    'score': [12.5, 9, 16.5, np.nan, 9, 20, 14.5, np.nan, 8, 19],\n",
    "    'attempts': [1, 3, 2, 3, 2, 3, 1, 1, 2, 1],\n",
    "    'qualify': ['yes', 'no', 'yes', 'no', 'no', 'yes', 'yes', 'no', 'no', 'yes']\n",
    "}\n",
    "labels = ['a', 'b', 'c', 'd', 'e', 'f', 'g', 'h', 'i', 'j']\n",
    "\n",
    "df = pd.DataFrame(exam_data, index=labels)\n",
    "\n",
    "num_rows, num_columns = df.shape\n",
    "\n",
    "print(\"Number of Rows:\", num_rows)\n",
    "print(\"Number of Columns:\", num_columns)\n"
   ]
  },
  {
   "cell_type": "markdown",
   "id": "c958c108-8e40-49be-968b-68bd6bc34e75",
   "metadata": {},
   "source": [
    "**Q12. Write a Python program to select the rows where the score is missing, i.e. is NaN.** <br>\n",
    "<b>exam_data</b> = {<br>'name': ['Anastasia', 'Dima', 'Katherine', 'James', 'Emily', 'Michael', 'Matthew',\n",
    "'Laura', 'Kevin', 'Jonas'],<br>\n",
    "'score': [12.5, 9, 16.5, np.nan, 9, 20, 14.5, np.nan, 8, 19],<br>\n",
    "'attempts': [1, 3, 2, 3, 2, 3, 1, 1, 2, 1],<br>\n",
    "'qualify': ['yes', 'no', 'yes', 'no', 'no', 'yes', 'yes', 'no', 'no', 'yes']<br>}<br>\n",
    "<b>labels</b> = ['a', 'b', 'c', 'd', 'e', 'f', 'g', 'h', 'i', 'j']"
   ]
  },
  {
   "cell_type": "code",
   "execution_count": 172,
   "id": "4fd1f88d-45c9-46ce-8c38-960ca09453cf",
   "metadata": {},
   "outputs": [
    {
     "name": "stdout",
     "output_type": "stream",
     "text": [
      "    name  score  attempts qualify\n",
      "d  James    NaN         3      no\n",
      "h  Laura    NaN         1      no\n"
     ]
    }
   ],
   "source": [
    "exam_data = {\n",
    "    'name': ['Anastasia', 'Dima', 'Katherine', 'James', 'Emily', 'Michael', 'Matthew', 'Laura', 'Kevin', 'Jonas'],\n",
    "    'score': [12.5, 9, 16.5, np.nan, 9, 20, 14.5, np.nan, 8, 19],\n",
    "    'attempts': [1, 3, 2, 3, 2, 3, 1, 1, 2, 1],\n",
    "    'qualify': ['yes', 'no', 'yes', 'no', 'no', 'yes', 'yes', 'no', 'no', 'yes']\n",
    "}\n",
    "labels = ['a', 'b', 'c', 'd', 'e', 'f', 'g', 'h', 'i', 'j']\n",
    "\n",
    "df = pd.DataFrame(exam_data, index=labels)\n",
    "\n",
    "rows_with_nan_score = df[df['score'].isna()]\n",
    "\n",
    "# Display the result\n",
    "print(rows_with_nan_score)"
   ]
  },
  {
   "cell_type": "markdown",
   "id": "cdd3a0bf-f992-493d-9544-c99b3f94990d",
   "metadata": {},
   "source": [
    "**Q13. Write a Python program to select the rows where number of attempts in the\n",
    "examination is less than 2 and score greater than 15.**"
   ]
  },
  {
   "cell_type": "code",
   "execution_count": 175,
   "id": "e9b7e6cd-1a4c-43b2-b193-190882a4ece5",
   "metadata": {},
   "outputs": [
    {
     "name": "stdout",
     "output_type": "stream",
     "text": [
      "    name  score  attempts qualify\n",
      "j  Jonas   19.0         1     yes\n"
     ]
    }
   ],
   "source": [
    "exam_data = {\n",
    "    'name': ['Anastasia', 'Dima', 'Katherine', 'James', 'Emily', 'Michael', 'Matthew', 'Laura', 'Kevin', 'Jonas'],\n",
    "    'score': [12.5, 9, 16.5, np.nan, 9, 20, 14.5, np.nan, 8, 19],\n",
    "    'attempts': [1, 3, 2, 3, 2, 3, 1, 1, 2, 1],\n",
    "    'qualify': ['yes', 'no', 'yes', 'no', 'no', 'yes', 'yes', 'no', 'no', 'yes']\n",
    "}\n",
    "labels = ['a', 'b', 'c', 'd', 'e', 'f', 'g', 'h', 'i', 'j']\n",
    "\n",
    "df = pd.DataFrame(exam_data, index=labels)\n",
    "\n",
    "selected_rows = df[(df['attempts'] < 2) & (df['score'] > 15)]\n",
    "\n",
    "print(selected_rows)\n"
   ]
  },
  {
   "cell_type": "markdown",
   "id": "f6dc6061-7fb6-447e-a783-3651fabc01ca",
   "metadata": {},
   "source": [
    "**Q14. Write a Python program to change the score in row 'd' to 11.5.** <br>\n",
    "<b> exam_data</b> = {<br>'name': ['Anastasia', 'Dima', 'Katherine', 'James', 'Emily', 'Michael', 'Matthew',\n",
    "'Laura', 'Kevin', 'Jonas'],<br>\n",
    "'score': [12.5, 9, 16.5, np.nan, 9, 20, 14.5, np.nan, 8, 19],<br>\n",
    "'attempts': [1, 3, 2, 3, 2, 3, 1, 1, 2, 1],<br>\n",
    "'qualify': ['yes', 'no', 'yes', 'no', 'no', 'yes', 'yes', 'no', 'no', 'yes'] <br>}<br>\n",
    "<b> labels</b>  = ['a', 'b', 'c', 'd', 'e', 'f', 'g', 'h', 'i', 'j']"
   ]
  },
  {
   "cell_type": "code",
   "execution_count": 180,
   "id": "cb33a0d9-2dc3-4bbf-bf6a-42768257fc0f",
   "metadata": {},
   "outputs": [
    {
     "name": "stdout",
     "output_type": "stream",
     "text": [
      "        name  score  attempts qualify\n",
      "a  Anastasia   12.5         1     yes\n",
      "b       Dima    9.0         3      no\n",
      "c  Katherine   16.5         2     yes\n",
      "d      James   11.5         3      no\n",
      "e      Emily    9.0         2      no\n",
      "f    Michael   20.0         3     yes\n",
      "g    Matthew   14.5         1     yes\n",
      "h      Laura    NaN         1      no\n",
      "i      Kevin    8.0         2      no\n",
      "j      Jonas   19.0         1     yes\n"
     ]
    }
   ],
   "source": [
    "exam_data = {\n",
    "    'name': ['Anastasia', 'Dima', 'Katherine', 'James', 'Emily', 'Michael', 'Matthew', 'Laura', 'Kevin', 'Jonas'],\n",
    "    'score': [12.5, 9, 16.5, np.nan, 9, 20, 14.5, np.nan, 8, 19],\n",
    "    'attempts': [1, 3, 2, 3, 2, 3, 1, 1, 2, 1],\n",
    "    'qualify': ['yes', 'no', 'yes', 'no', 'no', 'yes', 'yes', 'no', 'no', 'yes']\n",
    "}\n",
    "labels = ['a', 'b', 'c', 'd', 'e', 'f', 'g', 'h', 'i', 'j']\n",
    "\n",
    "df = pd.DataFrame(exam_data, index=labels)\n",
    "\n",
    "df.loc['d', 'score'] = 11.5\n",
    "\n",
    "print(df)\n"
   ]
  },
  {
   "cell_type": "markdown",
   "id": "0fc6fd12-5668-4ee0-af2f-bfb1f8fc8c04",
   "metadata": {},
   "source": [
    "**Q15. Write a Python program to calculate the sum of the examination attempts by the\n",
    "students.** <br>\n",
    "<b>exam_data</b> = {<br>'name': ['Anastasia', 'Dima', 'Katherine', 'James', 'Emily', 'Michael', 'Matthew',\n",
    "'Laura', 'Kevin', 'Jonas'],<br>\n",
    "'score': [12.5, 9, 16.5, np.nan, 9, 20, 14.5, np.nan, 8, 19],<br>\n",
    "'attempts': [1, 3, 2, 3, 2, 3, 1, 1, 2, 1],<br>\n",
    "'qualify': ['yes', 'no', 'yes', 'no', 'no', 'yes', 'yes', 'no', 'no', 'yes']<br>}<br>\n",
    "<b>labels</b> = ['a', 'b', 'c', 'd', 'e', 'f', 'g', 'h', 'i', 'j']"
   ]
  },
  {
   "cell_type": "code",
   "execution_count": 182,
   "id": "1e57ee42-3f68-4c0c-b3b2-904dee6fba82",
   "metadata": {},
   "outputs": [
    {
     "name": "stdout",
     "output_type": "stream",
     "text": [
      "19\n"
     ]
    }
   ],
   "source": [
    "exam_data = {\n",
    "    'name': ['Anastasia', 'Dima', 'Katherine', 'James', 'Emily', 'Michael', 'Matthew', 'Laura', 'Kevin', 'Jonas'],\n",
    "    'score': [12.5, 9, 16.5, np.nan, 9, 20, 14.5, np.nan, 8, 19],\n",
    "    'attempts': [1, 3, 2, 3, 2, 3, 1, 1, 2, 1],\n",
    "    'qualify': ['yes', 'no', 'yes', 'no', 'no', 'yes', 'yes', 'no', 'no', 'yes']\n",
    "}\n",
    "labels = ['a', 'b', 'c', 'd', 'e', 'f', 'g', 'h', 'i', 'j']\n",
    "\n",
    "df = pd.DataFrame(exam_data, index=labels)\n",
    "\n",
    "total_attempts = df['attempts'].sum()\n",
    "\n",
    "print(total_attempts)\n"
   ]
  },
  {
   "cell_type": "markdown",
   "id": "fd35d8b9-87ea-4aa3-816e-b420be45ab64",
   "metadata": {},
   "source": [
    "**Q16. Write a Python program to calculate the mean score for each different student in\n",
    "DataFrame.**<br>\n",
    "<b>exam_data</b> = {<br>'name': ['Anastasia', 'Dima', 'Katherine', 'James', 'Emily', 'Michael', 'Matthew',\n",
    "'Laura', 'Kevin', 'Jonas'],<br>\n",
    "'score': [12.5, 9, 16.5, np.nan, 9, 20, 14.5, np.nan, 8, 19],<br>\n",
    "'attempts': [1, 3, 2, 3, 2, 3, 1, 1, 2, 1],<br>\n",
    "'qualify': ['yes', 'no', 'yes', 'no', 'no', 'yes', 'yes', 'no', 'no', 'yes']<br>}<br>\n",
    "<b>labels</b> = ['a', 'b', 'c', 'd', 'e', 'f', 'g', 'h', 'i', 'j']"
   ]
  },
  {
   "cell_type": "code",
   "execution_count": 205,
   "id": "9a2de4fd-8448-45d4-b315-f9fae4d4dfd5",
   "metadata": {},
   "outputs": [
    {
     "name": "stdout",
     "output_type": "stream",
     "text": [
      "name\n",
      "Anastasia    12.5\n",
      "Dima          9.0\n",
      "Emily         9.0\n",
      "James         NaN\n",
      "Jonas        19.0\n",
      "Katherine    16.5\n",
      "Kevin         8.0\n",
      "Laura         NaN\n",
      "Matthew      14.5\n",
      "Michael      20.0\n",
      "Name: score, dtype: float64\n"
     ]
    }
   ],
   "source": [
    "exam_data = {\n",
    "    'name': ['Anastasia', 'Dima', 'Katherine', 'James', 'Emily', 'Michael', 'Matthew', 'Laura', 'Kevin', 'Jonas'],\n",
    "    'score': [12.5, 9, 16.5, np.nan, 9, 20, 14.5, np.nan, 8, 19],\n",
    "    'attempts': [1, 3, 2, 3, 2, 3, 1, 1, 2, 1],\n",
    "    'qualify': ['yes', 'no', 'yes', 'no', 'no', 'yes', 'yes', 'no', 'no', 'yes']\n",
    "}\n",
    "labels = ['a', 'b', 'c', 'd', 'e', 'f', 'g', 'h', 'i', 'j']\n",
    "\n",
    "df = pd.DataFrame(exam_data, index=labels)\n",
    "\n",
    "mean_scores = df.groupby('name')['score'].mean()\n",
    "\n",
    "print(mean_scores)\n"
   ]
  },
  {
   "cell_type": "markdown",
   "id": "b899577a-3ae0-4c1e-ba7b-095acf7fb2a1",
   "metadata": {},
   "source": [
    "**Q17. Write a Python program to append a new row 'k' to data frame with given values for each column. Now delete the new row and return the original DataFrame.** <br> \n",
    "<b>exam_data </b>= {<br> \n",
    "'name': ['Anastasia', 'Dima', 'Katherine', 'James', 'Emily', 'Michael', 'Matthew', 'Laura', 'Kevin', 'Jonas'], <br> \n",
    "'score': [12.5, 9, 16.5, np.nan, 9, 20, 14.5, np.nan, 8, 19], <br> \n",
    "'attempts': [1, 3, 2, 3, 2, 3, 1, 1, 2, 1], <br> \n",
    "'qualify': ['yes', 'no', 'yes', 'no', 'no', 'yes', 'yes', 'no', 'no', 'yes']<br> } <br> \n",
    "<b>labels</b> = ['a', 'b', 'c', 'd', 'e', 'f', 'g', 'h', 'i', 'j'] <br>\n",
    "**Values for each column will be:** <br> \n",
    "<i>name : \"Suresh\", score: 15.5, attempts: 1, qualify: \"yes\", label: \"k\"</i>"
   ]
  },
  {
   "cell_type": "code",
   "execution_count": 209,
   "id": "382c7b2e-25a1-4247-89b7-dfdf4af6e4d8",
   "metadata": {},
   "outputs": [
    {
     "name": "stdout",
     "output_type": "stream",
     "text": [
      "DataFrame with New Row:\n",
      "        name  score  attempts qualify\n",
      "a  Anastasia   12.5         1     yes\n",
      "b       Dima    9.0         3      no\n",
      "c  Katherine   16.5         2     yes\n",
      "d      James    NaN         3      no\n",
      "e      Emily    9.0         2      no\n",
      "f    Michael   20.0         3     yes\n",
      "g    Matthew   14.5         1     yes\n",
      "h      Laura    NaN         1      no\n",
      "i      Kevin    8.0         2      no\n",
      "j      Jonas   19.0         1     yes\n",
      "k     Suresh   15.5         1     yes\n"
     ]
    }
   ],
   "source": [
    "exam_data = {\n",
    "    'name': ['Anastasia', 'Dima', 'Katherine', 'James', 'Emily', 'Michael', 'Matthew', 'Laura', 'Kevin', 'Jonas'],\n",
    "    'score': [12.5, 9, 16.5, np.nan, 9, 20, 14.5, np.nan, 8, 19],\n",
    "    'attempts': [1, 3, 2, 3, 2, 3, 1, 1, 2, 1],\n",
    "    'qualify': ['yes', 'no', 'yes', 'no', 'no', 'yes', 'yes', 'no', 'no', 'yes']\n",
    "}\n",
    "labels = ['a', 'b', 'c', 'd', 'e', 'f', 'g', 'h', 'i', 'j']\n",
    "\n",
    "df = pd.DataFrame(exam_data, index=labels)\n",
    "\n",
    "new_row_data = {'name': 'Suresh', 'score': 15.5, 'attempts': 1, 'qualify': 'yes'}\n",
    "df.loc['k'] = new_row_data\n",
    "\n",
    "print(\"DataFrame with New Row:\")\n",
    "print(df)\n"
   ]
  },
  {
   "cell_type": "markdown",
   "id": "664d2657-3f4b-4f2d-88df-0a50f728738a",
   "metadata": {},
   "source": [
    "**Q18. Write a Python program to sort the DataFrame first by 'name' in descending order, then by 'score' in ascending order.** <br>\n",
    "<b>exam_data</b> = {<br>'name': ['Anastasia', 'Dima', 'Katherine', 'James', 'Emily', 'Michael', 'Matthew', 'Laura', 'Kevin', 'Jonas'],<br> \n",
    "'score': [12.5, 9, 16.5, np.nan, 9, 20, 14.5, np.nan, 8, 19], <br>\n",
    "'attempts': [1, 3, 2, 3, 2, 3, 1, 1, 2, 1],<br>\n",
    "'qualify': ['yes', 'no', 'yes', 'no', 'no', 'yes', 'yes', 'no', 'no', 'yes']<br>} <br>\n",
    "<b>labels</b> = ['a', 'b', 'c', 'd', 'e', 'f', 'g', 'h', 'i', 'j'] <br>\n",
    "**Values for each column will be:**\n",
    "<i>name : \"Suresh\", score: 15.5, attempts: 1, qualify: \"yes\", label: \"k\" </i>\n"
   ]
  },
  {
   "cell_type": "code",
   "execution_count": 225,
   "id": "a52044fa-9469-4c2b-9406-6a9dfeb574b0",
   "metadata": {},
   "outputs": [
    {
     "name": "stdout",
     "output_type": "stream",
     "text": [
      "        name  score  attempts qualify\n",
      "f    Michael   20.0         3     yes\n",
      "g    Matthew   14.5         1     yes\n",
      "h      Laura    NaN         1      no\n",
      "i      Kevin    8.0         2      no\n",
      "c  Katherine   16.5         2     yes\n",
      "j      Jonas   19.0         1     yes\n",
      "d      James    NaN         3      no\n",
      "e      Emily    9.0         2      no\n",
      "b       Dima    9.0         3      no\n",
      "a  Anastasia   12.5         1     yes\n"
     ]
    }
   ],
   "source": [
    "exam_data = {\n",
    "    'name': ['Anastasia', 'Dima', 'Katherine', 'James', 'Emily', 'Michael', 'Matthew', 'Laura', 'Kevin', 'Jonas'],\n",
    "    'score': [12.5, 9, 16.5, np.nan, 9, 20, 14.5, np.nan, 8, 19],\n",
    "    'attempts': [1, 3, 2, 3, 2, 3, 1, 1, 2, 1],\n",
    "    'qualify': ['yes', 'no', 'yes', 'no', 'no', 'yes', 'yes', 'no', 'no', 'yes']\n",
    "}\n",
    "labels = ['a', 'b', 'c', 'd', 'e', 'f', 'g', 'h', 'i', 'j']\n",
    "\n",
    "df = pd.DataFrame(exam_data, index=labels)\n",
    "\n",
    "sorted_df = df.sort_values(by=['name', 'score'], ascending=[False,True])\n",
    "\n",
    "print(sorted_df)\n"
   ]
  },
  {
   "cell_type": "markdown",
   "id": "4a26d058-e89b-4f61-a015-ee006977fa2a",
   "metadata": {},
   "source": [
    "**Q19. Write a Python program to replace the 'qualify' column contains the values 'yes' and\n",
    "'no' with True and False.** <br>\n",
    "<b>exam_data</b> = {<br>'name': ['Anastasia', 'Dima', 'Katherine', 'James', 'Emily', 'Michael', 'Matthew',\n",
    "'Laura', 'Kevin', 'Jonas'],<br>\n",
    "'score': [12.5, 9, 16.5, np.nan, 9, 20, 14.5, np.nan, 8, 19],<br>\n",
    "'attempts': [1, 3, 2, 3, 2, 3, 1, 1, 2, 1],<br>\n",
    "'qualify': ['yes', 'no', 'yes', 'no', 'no', 'yes', 'yes', 'no', 'no', 'yes']<br>}<br>\n",
    "<b>labels</b> = ['a', 'b', 'c', 'd', 'e', 'f', 'g', 'h', 'i', 'j']"
   ]
  },
  {
   "cell_type": "code",
   "execution_count": 228,
   "id": "62a31524-1614-4ef1-b1d0-caaa8a073ee0",
   "metadata": {},
   "outputs": [
    {
     "name": "stdout",
     "output_type": "stream",
     "text": [
      "        name  score  attempts  qualify\n",
      "a  Anastasia   12.5         1     True\n",
      "b       Dima    9.0         3    False\n",
      "c  Katherine   16.5         2     True\n",
      "d      James    NaN         3    False\n",
      "e      Emily    9.0         2    False\n",
      "f    Michael   20.0         3     True\n",
      "g    Matthew   14.5         1     True\n",
      "h      Laura    NaN         1    False\n",
      "i      Kevin    8.0         2    False\n",
      "j      Jonas   19.0         1     True\n"
     ]
    }
   ],
   "source": [
    "exam_data = {\n",
    "    'name': ['Anastasia', 'Dima', 'Katherine', 'James', 'Emily', 'Michael', 'Matthew', 'Laura', 'Kevin', 'Jonas'],\n",
    "    'score': [12.5, 9, 16.5, np.nan, 9, 20, 14.5, np.nan, 8, 19],\n",
    "    'attempts': [1, 3, 2, 3, 2, 3, 1, 1, 2, 1],\n",
    "    'qualify': ['yes', 'no', 'yes', 'no', 'no', 'yes', 'yes', 'no', 'no', 'yes']\n",
    "}\n",
    "labels = ['a', 'b', 'c', 'd', 'e', 'f', 'g', 'h', 'i', 'j']\n",
    "\n",
    "df = pd.DataFrame(exam_data, index=labels)\n",
    "\n",
    "df['qualify'] = df['qualify'].map({'yes': True, 'no': False})\n",
    "\n",
    "print(df)\n"
   ]
  },
  {
   "cell_type": "markdown",
   "id": "4450d5c5-e2bb-46b4-a612-2181d98ab33f",
   "metadata": {},
   "source": [
    "**Q20. Write a Python program to delete the 'attempts' column from the DataFrame.**<br>\n",
    "<b>exam_data</b> = {<br>'name': ['Anastasia', 'Dima', 'Katherine', 'James', 'Emily', 'Michael', 'Matthew',\n",
    "'Laura', 'Kevin', 'Jonas'],<br>\n",
    "'score': [12.5, 9, 16.5, np.nan, 9, 20, 14.5, np.nan, 8, 19],<br>\n",
    "'attempts': [1, 3, 2, 3, 2, 3, 1, 1, 2, 1],<br>\n",
    "'qualify': ['yes', 'no', 'yes', 'no', 'no', 'yes', 'yes', 'no', 'no', 'yes']<br>}<br>\n",
    "<b>labels</b> = ['a', 'b', 'c', 'd', 'e', 'f', 'g', 'h', 'i', 'j']"
   ]
  },
  {
   "cell_type": "code",
   "execution_count": 241,
   "id": "9da5c848-0fda-4b4d-b5ae-503ca7994db5",
   "metadata": {},
   "outputs": [
    {
     "name": "stdout",
     "output_type": "stream",
     "text": [
      "        name  score qualify\n",
      "a  Anastasia   12.5     yes\n",
      "b       Dima    9.0      no\n",
      "c  Katherine   16.5     yes\n",
      "d      James    NaN      no\n",
      "e      Emily    9.0      no\n",
      "f    Michael   20.0     yes\n",
      "g    Matthew   14.5     yes\n",
      "h      Laura    NaN      no\n",
      "i      Kevin    8.0      no\n",
      "j      Jonas   19.0     yes\n"
     ]
    }
   ],
   "source": [
    "exam_data = {\n",
    "    'name': ['Anastasia', 'Dima', 'Katherine', 'James', 'Emily', 'Michael', 'Matthew', 'Laura', 'Kevin', 'Jonas'],\n",
    "    'score': [12.5, 9, 16.5, np.nan, 9, 20, 14.5, np.nan, 8, 19],\n",
    "    'attempts': [1, 3, 2, 3, 2, 3, 1, 1, 2, 1],\n",
    "    'qualify': ['yes', 'no', 'yes', 'no', 'no', 'yes', 'yes', 'no', 'no', 'yes']\n",
    "}\n",
    "labels = ['a', 'b', 'c', 'd', 'e', 'f', 'g', 'h', 'i', 'j']\n",
    "\n",
    "df = pd.DataFrame(exam_data, index=labels)\n",
    "\n",
    "df.drop('attempts', axis=1,inplace=True)\n",
    "\n",
    "print(df)\n"
   ]
  },
  {
   "cell_type": "markdown",
   "id": "a0c5208e-6320-459b-bbcb-bfc09597eb62",
   "metadata": {},
   "source": [
    "**Q21. Write a Python program to insert a new column in existing DataFrame.**<br>\n",
    "<b>exam_data</b> = {<br>'name': ['Anastasia', 'Dima', 'Katherine', 'James', 'Emily', 'Michael', 'Matthew',\n",
    "'Laura', 'Kevin', 'Jonas'],<br>\n",
    "'score': [12.5, 9, 16.5, np.nan, 9, 20, 14.5, np.nan, 8, 19],<br>\n",
    "'attempts': [1, 3, 2, 3, 2, 3, 1, 1, 2, 1],<br>\n",
    "'qualify': ['yes', 'no', 'yes', 'no', 'no', 'yes', 'yes', 'no', 'no', 'yes']<br>}<br>\n",
    "<b>labels</b> = ['a', 'b', 'c', 'd', 'e', 'f', 'g', 'h', 'i', 'j']"
   ]
  },
  {
   "cell_type": "code",
   "execution_count": 250,
   "id": "7c43ebe1-1862-4899-b7e7-f85abc5f5739",
   "metadata": {},
   "outputs": [
    {
     "name": "stdout",
     "output_type": "stream",
     "text": [
      "        name  score  attempts qualify remarks\n",
      "a  Anastasia   12.5         1     yes    None\n",
      "b       Dima    9.0         3      no     efd\n",
      "c  Katherine   16.5         2     yes   fsfsf\n",
      "d      James    NaN         3      no   sffsf\n",
      "e      Emily    9.0         2      no    fsdf\n",
      "f    Michael   20.0         3     yes    sfds\n",
      "g    Matthew   14.5         1     yes  sdfsdf\n",
      "h      Laura    NaN         1      no   tegth\n",
      "i      Kevin    8.0         2      no    rbsg\n",
      "j      Jonas   19.0         1     yes  bgdrgb\n"
     ]
    }
   ],
   "source": [
    "exam_data = {\n",
    "    'name': ['Anastasia', 'Dima', 'Katherine', 'James', 'Emily', 'Michael', 'Matthew', 'Laura', 'Kevin', 'Jonas'],\n",
    "    'score': [12.5, 9, 16.5, np.nan, 9, 20, 14.5, np.nan, 8, 19],\n",
    "    'attempts': [1, 3, 2, 3, 2, 3, 1, 1, 2, 1],\n",
    "    'qualify': ['yes', 'no', 'yes', 'no', 'no', 'yes', 'yes', 'no', 'no', 'yes']\n",
    "}\n",
    "labels = ['a', 'b', 'c', 'd', 'e', 'f', 'g', 'h', 'i', 'j']\n",
    "\n",
    "df = pd.DataFrame(exam_data, index=labels)\n",
    "\n",
    "df['remarks'] = ['None','efd','fsfsf','sffsf','fsdf','sfds','sdfsdf','tegth','rbsg','bgdrgb']\n",
    "\n",
    "print(df)\n"
   ]
  },
  {
   "cell_type": "markdown",
   "id": "8e932c35-5546-4f17-a3bc-d60ed1b891d4",
   "metadata": {},
   "source": [
    "**Q22. Write a Python program to iterate over rows in a DataFrame.**"
   ]
  },
  {
   "cell_type": "code",
   "execution_count": 254,
   "id": "6b0c3543-087a-4fd9-9c4f-23437e4a5528",
   "metadata": {},
   "outputs": [
    {
     "name": "stdout",
     "output_type": "stream",
     "text": [
      "Index: a\n",
      "Name: Anastasia, Score: 12.5, Attempts: 1, Qualify: yes\n",
      "\n",
      "Index: b\n",
      "Name: Dima, Score: 9.0, Attempts: 3, Qualify: no\n",
      "\n",
      "Index: c\n",
      "Name: Katherine, Score: 16.5, Attempts: 2, Qualify: yes\n",
      "\n",
      "Index: d\n",
      "Name: James, Score: nan, Attempts: 3, Qualify: no\n",
      "\n",
      "Index: e\n",
      "Name: Emily, Score: 9.0, Attempts: 2, Qualify: no\n",
      "\n",
      "Index: f\n",
      "Name: Michael, Score: 20.0, Attempts: 3, Qualify: yes\n",
      "\n",
      "Index: g\n",
      "Name: Matthew, Score: 14.5, Attempts: 1, Qualify: yes\n",
      "\n",
      "Index: h\n",
      "Name: Laura, Score: nan, Attempts: 1, Qualify: no\n",
      "\n",
      "Index: i\n",
      "Name: Kevin, Score: 8.0, Attempts: 2, Qualify: no\n",
      "\n",
      "Index: j\n",
      "Name: Jonas, Score: 19.0, Attempts: 1, Qualify: yes\n",
      "\n"
     ]
    }
   ],
   "source": [
    "exam_data = {\n",
    "    'name': ['Anastasia', 'Dima', 'Katherine', 'James', 'Emily', 'Michael', 'Matthew', 'Laura', 'Kevin', 'Jonas'],\n",
    "    'score': [12.5, 9, 16.5, np.nan, 9, 20, 14.5, np.nan, 8, 19],\n",
    "    'attempts': [1, 3, 2, 3, 2, 3, 1, 1, 2, 1],\n",
    "    'qualify': ['yes', 'no', 'yes', 'no', 'no', 'yes', 'yes', 'no', 'no', 'yes']\n",
    "}\n",
    "labels = ['a', 'b', 'c', 'd', 'e', 'f', 'g', 'h', 'i', 'j']\n",
    "\n",
    "df = pd.DataFrame(exam_data, index=labels)\n",
    "\n",
    "for index, row in df.iterrows():\n",
    "    print(f\"Index: {index}\")\n",
    "    print(f\"Name: {row['name']}, Score: {row['score']}, Attempts: {row['attempts']}, Qualify: {row['qualify']}\")\n",
    "    print()\n"
   ]
  },
  {
   "cell_type": "markdown",
   "id": "15e9aeb8-aedf-43de-a575-bda7ee48d74d",
   "metadata": {},
   "source": [
    "**Q23. Write a Python program to get list from DataFrame column headers.**<br>\n",
    "<b>exam_data</b> = {<br>'name': ['Anastasia', 'Dima', 'Katherine', 'James', 'Emily', 'Michael', 'Matthew',\n",
    "'Laura', 'Kevin', 'Jonas'],<br>\n",
    "'score': [12.5, 9, 16.5, np.nan, 9, 20, 14.5, np.nan, 8, 19],<br>\n",
    "'attempts': [1, 3, 2, 3, 2, 3, 1, 1, 2, 1],<br>\n",
    "'qualify': ['yes', 'no', 'yes', 'no', 'no', 'yes', 'yes', 'no', 'no', 'yes']<br>}<br>\n",
    "<b>labels</b> = ['a', 'b', 'c', 'd', 'e', 'f', 'g', 'h', 'i', 'j']"
   ]
  },
  {
   "cell_type": "code",
   "execution_count": 257,
   "id": "29e361e6-0ee4-4a28-bec3-247c81f18942",
   "metadata": {},
   "outputs": [
    {
     "name": "stdout",
     "output_type": "stream",
     "text": [
      "['name', 'score', 'attempts', 'qualify']\n"
     ]
    }
   ],
   "source": [
    "exam_data = {\n",
    "    'name': ['Anastasia', 'Dima', 'Katherine', 'James', 'Emily', 'Michael', 'Matthew', 'Laura', 'Kevin', 'Jonas'],\n",
    "    'score': [12.5, 9, 16.5, np.nan, 9, 20, 14.5, np.nan, 8, 19],\n",
    "    'attempts': [1, 3, 2, 3, 2, 3, 1, 1, 2, 1],\n",
    "    'qualify': ['yes', 'no', 'yes', 'no', 'no', 'yes', 'yes', 'no', 'no', 'yes']\n",
    "}\n",
    "labels = ['a', 'b', 'c', 'd', 'e', 'f', 'g', 'h', 'i', 'j']\n",
    "\n",
    "df = pd.DataFrame(exam_data, index=labels)\n",
    "\n",
    "column_headers = list(df.columns)\n",
    "\n",
    "print(column_headers)\n"
   ]
  }
 ],
 "metadata": {
  "kernelspec": {
   "display_name": "Python 3 (ipykernel)",
   "language": "python",
   "name": "python3"
  },
  "language_info": {
   "codemirror_mode": {
    "name": "ipython",
    "version": 3
   },
   "file_extension": ".py",
   "mimetype": "text/x-python",
   "name": "python",
   "nbconvert_exporter": "python",
   "pygments_lexer": "ipython3",
   "version": "3.12.4"
  }
 },
 "nbformat": 4,
 "nbformat_minor": 5
}
